{
 "cells": [
  {
   "cell_type": "markdown",
   "metadata": {},
   "source": [
    "# 建模研究笔记 22/07/25"
   ]
  },
  {
   "cell_type": "markdown",
   "metadata": {},
   "source": [
    "## 简介\n",
    "\n",
    "首先为系统的每个部件分配一个物理能耗模型，其次按照实际工况将部件实例串联起来。\n",
    "\n",
    "标准模型只提供系统运行各项参数的参考值，若要实现红宝石路工况的准确模拟需要借助实验数据来修正以下模型系数。"
   ]
  },
  {
   "cell_type": "markdown",
   "metadata": {},
   "source": [
    "## 部件标准模型\n",
    "\n",
    "以下模型中各自的A，B等为定义符号代表需要通过实验来修正定值的系数"
   ]
  },
  {
   "cell_type": "markdown",
   "metadata": {},
   "source": [
    "### 变频水泵\n",
    "\n",
    "$$P_{pump} = \\frac{\\rho V H g^*}{\\eta}$$\n",
    "\n",
    "$V$ 流体流量 m3/h, \n",
    "\n",
    "$\\eta$ 水泵效率, \n",
    "\n",
    "H 扬程 m,\n",
    "\n",
    "$\\rho$ 流体密度 kg/m3, \n",
    "\n",
    "$g^*$ 重力加速度系数 m2/s.\n"
   ]
  },
  {
   "cell_type": "markdown",
   "metadata": {},
   "source": [
    "### 变频风机\n",
    "\n",
    "$$\\frac{G}{G_0} = \\frac{n}{n_0}$$\n",
    "\n",
    "$$\\frac{P}{P_0} = \\frac{n}{n_0} ^ 2$$\n",
    "\n",
    "$$N_{fan} = a . \\frac{P}{P_0} . G + b$$\n",
    "\n",
    "n 风机速率 rpm,\n",
    "\n",
    "G 风机流速 kg/s,\n",
    "\n",
    "P 风机附近气压 pa."
   ]
  },
  {
   "cell_type": "markdown",
   "metadata": {},
   "source": [
    "### 冷水机组\n",
    "\n",
    "$$COP = \\frac{Qe}{Ncom}$$\n",
    "\n",
    "$$Qc = Qe + Ncom $$\n",
    "\n",
    "$$COP = \\frac{r}{r*(\\frac{T_c}{T_e}-1) + loss_function(T_c, T_e)}$$\n",
    "\n",
    "\n",
    "$$lossfunction(T_c, T_e) = a1 \\frac{T_c}{T_e} - a2$$\n",
    "\n",
    "$$a1 = \\frac{q_e}{Q_o}, a2 = \\frac{q_c}{Q_o}$$\n",
    "\n",
    "$$T_c = T_w,c,E + \\frac{Q_c}{c_w * Fc(G_w,c)}$$\n",
    "\n",
    "$$T_e = T_w,e,E + \\frac{Q_e}{c_w * Fe(G_w,e)}$$\n",
    "\n",
    "r 负荷率,\n",
    "\n",
    "Qe 冷水机组制冷量 kW,\n",
    "\n",
    "Qc 冷凝器散热量 kW,\n",
    "\n",
    "Ncomp 压缩机功率 kW,\n",
    "\n",
    "G_w_e 蒸发器处流速 kg/s,\n",
    "\n",
    "G_w_c 冷凝器处流速 kg/s,\n",
    "\n",
    "F 换热效率,\n",
    "\n",
    "c_w 换热介质比热容 kJ/(kg.C).\n"
   ]
  },
  {
   "cell_type": "markdown",
   "metadata": {},
   "source": [
    "### 水塔\n",
    "\n",
    "* 水塔换热量\n",
    "\n",
    "公式1: $$Q_{tower} = c_W G_{tower, w} (t_{tower, w, E} - t_{tower, w, L})$$\n",
    "\n",
    "公式2: $$Q_{tower} = \\epsilon G_{tower,a} (h_{tower, as, E} - h_tower, a, E)$$\n",
    "\n",
    "\n",
    "* 水塔换热效率\n",
    "\n",
    "$$\\epsilon_{tower} = \\frac{ 1 - \\exp[- Ntu(1 - m^*)]}{1 - m^* \\exp[-Ntu(1 - m^*)]}$$\n",
    "$$m^* = \\frac{G_{tower,a}}{G_{tower,w} c_w} \\frac{h_{tower, as, E} - h_{tower, as, L}}{t_{tower, w, E} - t_{tower, w, L}}$$\n",
    "\n",
    "$$Ntu = A_{tower} \\frac{G_{tower, w}}{G_{tower, a}}^{B_{tower}}$$\n",
    "\n",
    "* 水塔出水温度\n",
    "\n",
    "$$t_{tower, w, L} = t_{tower, w, E} - \\frac{\\epsilon_{tower} (h_{tower, as, E} - h_{tower, a, E})}{c_W G_{tower, w}}$$\n",
    "\n",
    "$c_W$ 流体比热容 kJ/(kg C), \n",
    "\n",
    "h 空气焓值 kJ/kg, \n",
    "\n",
    "t 温度 C, 下划 'a' 与 'w' 分别代表空气与水,\n",
    "\n",
    "下划 'as' 代表饱和空气,\n",
    "\n",
    "$\\epsilon$ 水塔换热效率.\n",
    "\n",
    "\n"
   ]
  },
  {
   "cell_type": "markdown",
   "metadata": {},
   "source": [
    "## 部件耦合关系\n",
    "\n",
    "$$T_{w,tower,L} = a * T_{w,c,E}$$\n",
    "\n",
    "$$T_{w,e,L} = c * T_{w,coil,E}$$\n",
    "\n",
    "$$T_{w,e,E} = d * T_{w,coil,L}$$\n",
    "\n",
    "$$T_{w,c,L} = b * T_{w,tower,E}$$"
   ]
  }
 ],
 "metadata": {
  "kernelspec": {
   "display_name": "Python 3.8.3 ('base')",
   "language": "python",
   "name": "python3"
  },
  "language_info": {
   "name": "python",
   "version": "3.8.3"
  },
  "orig_nbformat": 4,
  "vscode": {
   "interpreter": {
    "hash": "8ff2a0c01d36c6867d1f82db468ea35b866f6decfd65f7f19d159d774fbda5a3"
   }
  }
 },
 "nbformat": 4,
 "nbformat_minor": 2
}
