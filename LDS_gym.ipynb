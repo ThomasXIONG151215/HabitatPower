{
 "cells": [
  {
   "cell_type": "code",
   "execution_count": 2,
   "metadata": {},
   "outputs": [],
   "source": [
    "from gym import Env\n",
    "from gym.spaces.discrete import Discrete\n",
    "from gym.spaces import Box, Dict, Discrete, MultiDiscrete\n",
    "import numpy as np\n",
    "from models.System_Models import Chiller, Tower, Pump, Fan, Exchanger, AHU\n",
    "from models.Environment_Models import Air_Node, Water_Node, Room, Outdoor\n",
    "\n",
    "from stable_baselines3 import PPO \n",
    "\n",
    "from stable_baselines3.common.vec_env import dummy_vec_env\n",
    "\n",
    "from stable_baselines3.common.policies import BasePolicy \n",
    "\n",
    "from stable_baselines3.common.env_checker import check_env\n",
    "\n",
    "from models.RL_Models import GuBeiEnv\n",
    "\n",
    "import random"
   ]
  },
  {
   "cell_type": "code",
   "execution_count": 3,
   "metadata": {},
   "outputs": [],
   "source": [
    "env = GuBeiEnv()\n",
    "check_env(env)"
   ]
  },
  {
   "cell_type": "code",
   "execution_count": 4,
   "metadata": {},
   "outputs": [
    {
     "name": "stdout",
     "output_type": "stream",
     "text": [
      "Using cpu device\n",
      "Wrapping the env with a `Monitor` wrapper\n",
      "Wrapping the env in a DummyVecEnv.\n"
     ]
    }
   ],
   "source": [
    "env = GuBeiEnv()\n",
    "\n",
    "model = PPO(policy = \"MlpPolicy\", env = env, verbose = 1)"
   ]
  },
  {
   "cell_type": "code",
   "execution_count": 5,
   "metadata": {},
   "outputs": [
    {
     "name": "stdout",
     "output_type": "stream",
     "text": [
      "---------------------------------\n",
      "| rollout/           |          |\n",
      "|    ep_len_mean     | 10       |\n",
      "|    ep_rew_mean     | -24.1    |\n",
      "| time/              |          |\n",
      "|    fps             | 486      |\n",
      "|    iterations      | 1        |\n",
      "|    time_elapsed    | 4        |\n",
      "|    total_timesteps | 2048     |\n",
      "---------------------------------\n"
     ]
    },
    {
     "data": {
      "text/plain": [
       "<stable_baselines3.ppo.ppo.PPO at 0x7fa826a12280>"
      ]
     },
     "execution_count": 5,
     "metadata": {},
     "output_type": "execute_result"
    }
   ],
   "source": [
    "model.learn(total_timesteps= 10)"
   ]
  },
  {
   "cell_type": "code",
   "execution_count": 6,
   "metadata": {},
   "outputs": [],
   "source": [
    "obs = env.reset()\n"
   ]
  },
  {
   "cell_type": "code",
   "execution_count": 7,
   "metadata": {},
   "outputs": [
    {
     "name": "stdout",
     "output_type": "stream",
     "text": [
      "0\n",
      "1\n",
      "2\n",
      "3\n",
      "4\n",
      "5\n",
      "6\n",
      "7\n",
      "8\n",
      "9\n",
      "10\n",
      "11\n",
      "12\n",
      "13\n",
      "14\n",
      "15\n",
      "16\n",
      "17\n",
      "18\n",
      "19\n",
      "20\n",
      "21\n",
      "22\n",
      "23\n",
      "24\n",
      "25\n",
      "26\n",
      "27\n",
      "28\n",
      "29\n",
      "30\n",
      "31\n",
      "32\n",
      "33\n",
      "34\n",
      "35\n",
      "36\n",
      "37\n",
      "38\n",
      "39\n",
      "40\n",
      "41\n",
      "42\n",
      "43\n",
      "44\n",
      "45\n",
      "46\n",
      "47\n",
      "48\n",
      "49\n",
      "50\n",
      "51\n",
      "52\n",
      "53\n",
      "54\n",
      "55\n",
      "56\n",
      "57\n",
      "58\n",
      "59\n",
      "60\n",
      "61\n",
      "62\n",
      "63\n",
      "64\n",
      "65\n",
      "66\n",
      "67\n",
      "68\n",
      "69\n",
      "70\n",
      "71\n",
      "72\n",
      "73\n",
      "74\n",
      "75\n",
      "76\n",
      "77\n",
      "78\n",
      "79\n",
      "80\n",
      "81\n",
      "82\n",
      "83\n",
      "84\n",
      "85\n",
      "86\n",
      "87\n",
      "88\n",
      "89\n",
      "90\n",
      "91\n",
      "92\n",
      "93\n",
      "94\n",
      "95\n",
      "96\n",
      "97\n",
      "98\n",
      "99\n"
     ]
    }
   ],
   "source": [
    "actions = []\n",
    "observations = []\n",
    "rewards = []\n",
    "for i in range(100):\n",
    "    #print(i)\n",
    "    action, _states = model.predict(obs, deterministic=True)\n",
    "    obs, reward, done, info = env.step(action)\n",
    "\n",
    "    #后续要将其它被动参数放入env.state/obs中，可以在env里头设定一个物理引擎，然后在这个外部循环引进被动参数或者环境参数的真实值\n",
    "    # obs的部分参数 与 what we really got参数数值相互对比，误差可以反馈给env的物理引擎使其可以自我纠正\n",
    "\n",
    "    actions.append(action)\n",
    "    observations.append(obs)\n",
    "    rewards.append(reward)\n",
    "\n",
    "    env.render()\n",
    "    if done:\n",
    "        obs = env.reset()\n",
    "    \n",
    "env.close()"
   ]
  },
  {
   "cell_type": "code",
   "execution_count": 8,
   "metadata": {},
   "outputs": [
    {
     "data": {
      "text/plain": [
       "[array([  29,  988, 3460, 6024]),\n",
       " array([  25, 1320, 3524, 6024]),\n",
       " array([  28, 1552, 3588, 6024]),\n",
       " array([  25, 1426, 3652, 6024]),\n",
       " array([  27, 1008, 3588, 6024]),\n",
       " array([  28, 1345, 3588, 6024]),\n",
       " array([  27, 1381, 3524, 6024]),\n",
       " array([  24,  903, 3588, 6024]),\n",
       " array([  28, 1527, 3652, 6024]),\n",
       " array([  28, 1527, 3652, 6024]),\n",
       " array([  29, 1088, 3588, 5992]),\n",
       " array([  28, 1454, 3588, 5992]),\n",
       " array([  28, 1380, 3524, 5992]),\n",
       " array([  26, 1249, 3588, 5992]),\n",
       " array([  28,  947, 3524, 5992]),\n",
       " array([  25,  943, 3588, 5992]),\n",
       " array([  29, 1232, 3652, 5992]),\n",
       " array([  26, 1018, 3588, 5992]),\n",
       " array([  28, 1083, 3588, 5992]),\n",
       " array([  28, 1083, 3588, 5992]),\n",
       " array([  28, 1475, 3588, 5960]),\n",
       " array([  29, 1065, 3524, 5960]),\n",
       " array([  25, 1235, 3524, 5960]),\n",
       " array([  26,  935, 3460, 5960]),\n",
       " array([  28, 1179, 3524, 5960]),\n",
       " array([  27,  936, 3460, 5960]),\n",
       " array([  27, 1159, 3524, 5960]),\n",
       " array([  28, 1034, 3524, 5960]),\n",
       " array([  25, 1004, 3588, 5960]),\n",
       " array([  25, 1004, 3588, 5960]),\n",
       " array([  28, 1246, 3524, 5928]),\n",
       " array([  29, 1369, 3460, 5928]),\n",
       " array([  30, 1255, 3524, 5928]),\n",
       " array([  26,  778, 3460, 5928]),\n",
       " array([  29, 1087, 3460, 5896]),\n",
       " array([  30, 1067, 3524, 5896]),\n",
       " array([  28, 1000, 3524, 5896]),\n",
       " array([  28, 1324, 3524, 5896]),\n",
       " array([  26, 1118, 3460, 5896]),\n",
       " array([  26, 1118, 3460, 5896]),\n",
       " array([  29, 1040, 3524, 5864]),\n",
       " array([  29, 1137, 3524, 5864]),\n",
       " array([  29, 1153, 3524, 5864]),\n",
       " array([  26, 1112, 3460, 5864]),\n",
       " array([  28,  901, 3460, 5864]),\n",
       " array([  29,  866, 3524, 5864]),\n",
       " array([  28,  945, 3588, 5864]),\n",
       " array([  30, 1114, 3588, 5864]),\n",
       " array([  27, 1043, 3588, 5864]),\n",
       " array([  27, 1043, 3588, 5864]),\n",
       " array([  26,  959, 3524, 5832]),\n",
       " array([  26, 1179, 3524, 5832]),\n",
       " array([  24, 1128, 3460, 5832]),\n",
       " array([  29, 1345, 3460, 5832]),\n",
       " array([  24, 1172, 3396, 5832]),\n",
       " array([  28, 1212, 3332, 5832]),\n",
       " array([  29, 1460, 3396, 5800]),\n",
       " array([  28, 1491, 3460, 5800]),\n",
       " array([  27, 1297, 3524, 5800]),\n",
       " array([  27, 1297, 3524, 5800]),\n",
       " array([  26, 1576, 3460, 5768]),\n",
       " array([  25, 1343, 3524, 5768]),\n",
       " array([  29, 1156, 3460, 5768]),\n",
       " array([  27, 1557, 3396, 5768]),\n",
       " array([  28, 1363, 3460, 5768]),\n",
       " array([  29, 1539, 3396, 5768]),\n",
       " array([  27, 1728, 3460, 5768]),\n",
       " array([  30, 1842, 3524, 5768]),\n",
       " array([  28, 1220, 3588, 5768]),\n",
       " array([  28, 1220, 3588, 5768]),\n",
       " array([  24, 1292, 3524, 5735]),\n",
       " array([  25, 1512, 3460, 5735]),\n",
       " array([  29, 1424, 3524, 5735]),\n",
       " array([  29, 1372, 3460, 5735]),\n",
       " array([  28, 1771, 3396, 5735]),\n",
       " array([  29, 1616, 3460, 5735]),\n",
       " array([  28, 1628, 3524, 5735]),\n",
       " array([  30, 1662, 3588, 5735]),\n",
       " array([  26, 1525, 3524, 5735]),\n",
       " array([  26, 1525, 3524, 5735]),\n",
       " array([  25, 2068, 3588, 5703]),\n",
       " array([  28, 2147, 3652, 5703]),\n",
       " array([  27, 1666, 3716, 5703]),\n",
       " array([  29, 2613, 3652, 5703]),\n",
       " array([  29, 1551, 3716, 5671]),\n",
       " array([  29, 2768, 3652, 5671]),\n",
       " array([  26, 2596, 3716, 5639]),\n",
       " array([  29, 2851, 3780, 5607]),\n",
       " array([  27, 2180, 3845, 5575]),\n",
       " array([  27, 2180, 3845, 5575]),\n",
       " array([  28, 2458, 3909, 5511]),\n",
       " array([  27, 2452, 3973, 5511]),\n",
       " array([  27, 2395, 4037, 5511]),\n",
       " array([  29, 3113, 4101, 5511]),\n",
       " array([  27, 2656, 4165, 5479]),\n",
       " array([  26, 2337, 4229, 5447]),\n",
       " array([  27, 2252, 4293, 5447]),\n",
       " array([  28, 3654, 4357, 5447]),\n",
       " array([  28, 2389, 4357, 5415]),\n",
       " array([  28, 2389, 4357, 5415])]"
      ]
     },
     "execution_count": 8,
     "metadata": {},
     "output_type": "execute_result"
    }
   ],
   "source": [
    "observations"
   ]
  },
  {
   "cell_type": "code",
   "execution_count": null,
   "metadata": {},
   "outputs": [],
   "source": []
  }
 ],
 "metadata": {
  "kernelspec": {
   "display_name": "Python 3.8.3 ('base')",
   "language": "python",
   "name": "python3"
  },
  "language_info": {
   "codemirror_mode": {
    "name": "ipython",
    "version": 3
   },
   "file_extension": ".py",
   "mimetype": "text/x-python",
   "name": "python",
   "nbconvert_exporter": "python",
   "pygments_lexer": "ipython3",
   "version": "3.8.3"
  },
  "orig_nbformat": 4,
  "vscode": {
   "interpreter": {
    "hash": "8ff2a0c01d36c6867d1f82db468ea35b866f6decfd65f7f19d159d774fbda5a3"
   }
  }
 },
 "nbformat": 4,
 "nbformat_minor": 2
}
